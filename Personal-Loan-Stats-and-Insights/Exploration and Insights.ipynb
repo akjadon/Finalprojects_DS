{
 "cells": [
  {
   "cell_type": "code",
   "execution_count": 32,
   "metadata": {},
   "outputs": [],
   "source": [
    "import requests\n",
    "import numpy as np\n",
    "import pandas as pd\n",
    "import matplotlib.pyplot as plt\n",
    "import seaborn as sns\n",
    "import warnings\n",
    "warnings.filterwarnings('ignore')"
   ]
  },
  {
   "cell_type": "code",
   "execution_count": 33,
   "metadata": {
    "scrolled": false
   },
   "outputs": [
    {
     "data": {
      "text/html": [
       "<div>\n",
       "<style scoped>\n",
       "    .dataframe tbody tr th:only-of-type {\n",
       "        vertical-align: middle;\n",
       "    }\n",
       "\n",
       "    .dataframe tbody tr th {\n",
       "        vertical-align: top;\n",
       "    }\n",
       "\n",
       "    .dataframe thead th {\n",
       "        text-align: right;\n",
       "    }\n",
       "</style>\n",
       "<table border=\"1\" class=\"dataframe\">\n",
       "  <thead>\n",
       "    <tr style=\"text-align: right;\">\n",
       "      <th></th>\n",
       "      <th>Id</th>\n",
       "      <th>Application Date</th>\n",
       "      <th>City</th>\n",
       "      <th>Income</th>\n",
       "      <th>Stage</th>\n",
       "    </tr>\n",
       "  </thead>\n",
       "  <tbody>\n",
       "    <tr>\n",
       "      <th>0</th>\n",
       "      <td>1</td>\n",
       "      <td>30-Sep-18</td>\n",
       "      <td>North West Delhi</td>\n",
       "      <td>307296</td>\n",
       "      <td>Stage 1</td>\n",
       "    </tr>\n",
       "    <tr>\n",
       "      <th>1</th>\n",
       "      <td>2</td>\n",
       "      <td>30-Sep-18</td>\n",
       "      <td>North West Delhi</td>\n",
       "      <td>323976</td>\n",
       "      <td>Stage 0</td>\n",
       "    </tr>\n",
       "    <tr>\n",
       "      <th>2</th>\n",
       "      <td>3</td>\n",
       "      <td>30-Sep-18</td>\n",
       "      <td>Mumbai</td>\n",
       "      <td>235632</td>\n",
       "      <td>Stage 1</td>\n",
       "    </tr>\n",
       "    <tr>\n",
       "      <th>3</th>\n",
       "      <td>4</td>\n",
       "      <td>30-Sep-18</td>\n",
       "      <td>Jaipur</td>\n",
       "      <td>250668</td>\n",
       "      <td>Stage 0</td>\n",
       "    </tr>\n",
       "    <tr>\n",
       "      <th>4</th>\n",
       "      <td>5</td>\n",
       "      <td>30-Sep-18</td>\n",
       "      <td>Lakhimpur</td>\n",
       "      <td>533616</td>\n",
       "      <td>Stage 0</td>\n",
       "    </tr>\n",
       "  </tbody>\n",
       "</table>\n",
       "</div>"
      ],
      "text/plain": [
       "   Id Application Date              City  Income    Stage\n",
       "0   1        30-Sep-18  North West Delhi  307296  Stage 1\n",
       "1   2        30-Sep-18  North West Delhi  323976  Stage 0\n",
       "2   3        30-Sep-18            Mumbai  235632  Stage 1\n",
       "3   4        30-Sep-18            Jaipur  250668  Stage 0\n",
       "4   5        30-Sep-18         Lakhimpur  533616  Stage 0"
      ]
     },
     "execution_count": 33,
     "metadata": {},
     "output_type": "execute_result"
    }
   ],
   "source": [
    "# Ingesting data\n",
    "data = pd.read_csv('assignment.csv')\n",
    "data.head()"
   ]
  },
  {
   "cell_type": "markdown",
   "metadata": {},
   "source": [
    "## Income Level of Applicant across Cities"
   ]
  },
  {
   "cell_type": "markdown",
   "metadata": {},
   "source": [
    "Creating a Dataframe grouping applicants by the city names, and thus finding the mean income of applicants in the city segments.\n",
    "\n",
    "Below is mentioned the plot of **Top 10** cities with highest average income."
   ]
  },
  {
   "cell_type": "code",
   "execution_count": 34,
   "metadata": {},
   "outputs": [
    {
     "data": {
      "image/png": "[encoded data removed]",
      "text/plain": [
       "<Figure size 432x288 with 1 Axes>"
      ]
     },
     "metadata": {},
     "output_type": "display_data"
    }
   ],
   "source": [
    "city_data = data.groupby('City').mean()\n",
    "city_data.sort_values('Income', ascending= False).head(10).plot(kind = 'bar');"
   ]
  },
  {
   "cell_type": "markdown",
   "metadata": {},
   "source": [
    "No wonder, Ahmed Nagar boasts of the Highes per capita income in the country in GK books"
   ]
  },
  {
   "cell_type": "code",
   "execution_count": 35,
   "metadata": {},
   "outputs": [
    {
     "name": "stdout",
     "output_type": "stream",
     "text": [
      "The number of cities in entire dataset:  417\n",
      "The number of cities in only fifth Stage :  4\n"
     ]
    }
   ],
   "source": [
    "print('The number of cities in entire dataset: ', len(data.City.unique()))\n",
    "print('The number of cities in only fifth Stage : ', len(data[data.Stage == 'Stage 5'].City.unique()))"
   ]
  },
  {
   "cell_type": "markdown",
   "metadata": {},
   "source": [
    "Only the applicant from 4 cities are able to colclude the final stage. Let us plot the graphs of the cities from where the applicants reached to stage 2 and onwards"
   ]
  },
  {
   "cell_type": "code",
   "execution_count": 36,
   "metadata": {},
   "outputs": [
    {
     "data": {
      "image/png": "[encoded data removed]",
      "text/plain": [
       "<Figure size 432x288 with 1 Axes>"
      ]
     },
     "metadata": {},
     "output_type": "display_data"
    }
   ],
   "source": [
    "pd.pivot_table(data[(data.Stage != 'Stage 0') & (data.Stage != 'Stage 1')], values= 'Income', index = 'City', columns= 'Stage', aggfunc= 'mean', fill_value= 0).plot(kind = 'bar');"
   ]
  },
  {
   "cell_type": "markdown",
   "metadata": {},
   "source": [
    "This graph summarizes that the Applicants from Bengaluru, Chennai, Mumbai and Pune are completing all the stages of loan approval"
   ]
  },
  {
   "cell_type": "markdown",
   "metadata": {},
   "source": [
    "## Overall Conversion Rate from Stage 0 to Stage 5 (for two months)\n",
    "We need to analyze the dataset on Stage level. \n",
    "\n",
    "Let's start with finding the number of applicants on each individual stage."
   ]
  },
  {
   "cell_type": "code",
   "execution_count": 37,
   "metadata": {},
   "outputs": [
    {
     "data": {
      "text/html": [
       "<div>\n",
       "<style scoped>\n",
       "    .dataframe tbody tr th:only-of-type {\n",
       "        vertical-align: middle;\n",
       "    }\n",
       "\n",
       "    .dataframe tbody tr th {\n",
       "        vertical-align: top;\n",
       "    }\n",
       "\n",
       "    .dataframe thead th {\n",
       "        text-align: right;\n",
       "    }\n",
       "</style>\n",
       "<table border=\"1\" class=\"dataframe\">\n",
       "  <thead>\n",
       "    <tr style=\"text-align: right;\">\n",
       "      <th></th>\n",
       "      <th>Stage</th>\n",
       "      <th>Id</th>\n",
       "    </tr>\n",
       "  </thead>\n",
       "  <tbody>\n",
       "    <tr>\n",
       "      <th>0</th>\n",
       "      <td>Stage 0</td>\n",
       "      <td>5244</td>\n",
       "    </tr>\n",
       "    <tr>\n",
       "      <th>1</th>\n",
       "      <td>Stage 1</td>\n",
       "      <td>3917</td>\n",
       "    </tr>\n",
       "    <tr>\n",
       "      <th>2</th>\n",
       "      <td>Stage 2</td>\n",
       "      <td>353</td>\n",
       "    </tr>\n",
       "    <tr>\n",
       "      <th>3</th>\n",
       "      <td>Stage 3</td>\n",
       "      <td>359</td>\n",
       "    </tr>\n",
       "    <tr>\n",
       "      <th>4</th>\n",
       "      <td>Stage 4</td>\n",
       "      <td>716</td>\n",
       "    </tr>\n",
       "    <tr>\n",
       "      <th>5</th>\n",
       "      <td>Stage 5</td>\n",
       "      <td>89</td>\n",
       "    </tr>\n",
       "  </tbody>\n",
       "</table>\n",
       "</div>"
      ],
      "text/plain": [
       "     Stage    Id\n",
       "0  Stage 0  5244\n",
       "1  Stage 1  3917\n",
       "2  Stage 2   353\n",
       "3  Stage 3   359\n",
       "4  Stage 4   716\n",
       "5  Stage 5    89"
      ]
     },
     "execution_count": 37,
     "metadata": {},
     "output_type": "execute_result"
    }
   ],
   "source": [
    "stage_data = data.groupby('Stage').count().reset_index().loc[:,['Stage', 'Id']]\n",
    "stage_data"
   ]
  },
  {
   "cell_type": "markdown",
   "metadata": {},
   "source": [
    "Adding one column in DataFrame `stage_data` to understand the Conversion"
   ]
  },
  {
   "cell_type": "markdown",
   "metadata": {},
   "source": [
    "The conversion Rate between any two stages for e.g. stage X and stage Y can be defined as the ratio of the number of the customers who reached stage Y and beyond to the number of the customers who reached stage X and beyond.\n",
    "\n",
    "We need to find that number in each stage first.\n",
    "i.e. \n",
    "Conversion Number is Stage 3 is applicants in stage 3 plus applicants in stage 4 and applicants in stage 5"
   ]
  },
  {
   "cell_type": "code",
   "execution_count": 38,
   "metadata": {},
   "outputs": [
    {
     "data": {
      "text/html": [
       "<div>\n",
       "<style scoped>\n",
       "    .dataframe tbody tr th:only-of-type {\n",
       "        vertical-align: middle;\n",
       "    }\n",
       "\n",
       "    .dataframe tbody tr th {\n",
       "        vertical-align: top;\n",
       "    }\n",
       "\n",
       "    .dataframe thead th {\n",
       "        text-align: right;\n",
       "    }\n",
       "</style>\n",
       "<table border=\"1\" class=\"dataframe\">\n",
       "  <thead>\n",
       "    <tr style=\"text-align: right;\">\n",
       "      <th></th>\n",
       "      <th>Stage</th>\n",
       "      <th>Id</th>\n",
       "      <th>Conversion Number</th>\n",
       "    </tr>\n",
       "  </thead>\n",
       "  <tbody>\n",
       "    <tr>\n",
       "      <th>0</th>\n",
       "      <td>Stage 0</td>\n",
       "      <td>5244</td>\n",
       "      <td>10678</td>\n",
       "    </tr>\n",
       "    <tr>\n",
       "      <th>1</th>\n",
       "      <td>Stage 1</td>\n",
       "      <td>3917</td>\n",
       "      <td>5434</td>\n",
       "    </tr>\n",
       "    <tr>\n",
       "      <th>2</th>\n",
       "      <td>Stage 2</td>\n",
       "      <td>353</td>\n",
       "      <td>1517</td>\n",
       "    </tr>\n",
       "    <tr>\n",
       "      <th>3</th>\n",
       "      <td>Stage 3</td>\n",
       "      <td>359</td>\n",
       "      <td>1164</td>\n",
       "    </tr>\n",
       "    <tr>\n",
       "      <th>4</th>\n",
       "      <td>Stage 4</td>\n",
       "      <td>716</td>\n",
       "      <td>805</td>\n",
       "    </tr>\n",
       "    <tr>\n",
       "      <th>5</th>\n",
       "      <td>Stage 5</td>\n",
       "      <td>89</td>\n",
       "      <td>89</td>\n",
       "    </tr>\n",
       "  </tbody>\n",
       "</table>\n",
       "</div>"
      ],
      "text/plain": [
       "     Stage    Id  Conversion Number\n",
       "0  Stage 0  5244              10678\n",
       "1  Stage 1  3917               5434\n",
       "2  Stage 2   353               1517\n",
       "3  Stage 3   359               1164\n",
       "4  Stage 4   716                805\n",
       "5  Stage 5    89                 89"
      ]
     },
     "execution_count": 38,
     "metadata": {},
     "output_type": "execute_result"
    }
   ],
   "source": [
    "# declaring empty list for conversion number and then generating the number based on each stage of dataset\n",
    "conversion = []\n",
    "for i in stage_data.Stage.tolist():\n",
    "    conversion.append(sum(stage_data.Id.tolist()[stage_data.Stage.tolist().index(i):]))\n",
    "\n",
    "# Creating the columns in DataFrame stage_data\n",
    "stage_data['Conversion Number'] = pd.Series(conversion)\n",
    "stage_data"
   ]
  },
  {
   "cell_type": "markdown",
   "metadata": {},
   "source": [
    "Defining the formula to find out Conversion Rate between two stages"
   ]
  },
  {
   "cell_type": "code",
   "execution_count": 39,
   "metadata": {},
   "outputs": [
    {
     "name": "stdout",
     "output_type": "stream",
     "text": [
      "Overall conversion rate from Stage 0 to Stage 5 is:  0.008335\n"
     ]
    }
   ],
   "source": [
    "# Function for Conversion Rate\n",
    "def conversion_rate(stage_x, stage_y, df):\n",
    "    rate = sum(df[df.Stage == stage_y]['Conversion Number'].values)/sum(df[df.Stage == stage_x]['Conversion Number'].values)\n",
    "    return rate\n",
    "\n",
    "#Finding the Conversion rate between Stage 0 and Stage 5\n",
    "print('Overall conversion rate from Stage 0 to Stage 5 is: ', round(conversion_rate('Stage 0', 'Stage 5', stage_data), 6))"
   ]
  },
  {
   "cell_type": "markdown",
   "metadata": {},
   "source": [
    "Based on the Analysis I can explain that the overall conversion is **0.008335**"
   ]
  },
  {
   "cell_type": "markdown",
   "metadata": {},
   "source": [
    "## The Step of the Funnel which is the  Biggest Driver of the changes\n",
    "Exploring applicant flow Funnel"
   ]
  },
  {
   "cell_type": "code",
   "execution_count": 40,
   "metadata": {},
   "outputs": [
    {
     "data": {
      "image/png": "[encoded data removed]",
      "text/plain": [
       "<Figure size 432x288 with 1 Axes>"
      ]
     },
     "metadata": {},
     "output_type": "display_data"
    }
   ],
   "source": [
    "# At first, let's visualize how different the Conversion numbers are each stage\n",
    "#(based on the suggestion given in Asignment document)\n",
    "sns.barplot(x = 'Conversion Number', y = 'Stage', data = stage_data);"
   ]
  },
  {
   "cell_type": "markdown",
   "metadata": {},
   "source": [
    "##### Explaining the Conversion Rate"
   ]
  },
  {
   "cell_type": "markdown",
   "metadata": {},
   "source": [
    "So Conversion Rate is the the ratio of the number of the customers who reached stage Y and beyond to the number of the customers who reached stage X and beyond.\n",
    "\n",
    "I am assuming the Stage 0 is the universe here and thus in this stage, Conversion Rate is 1.\n",
    "\n",
    "We can create another column in DataFrame to understand it more clearly."
   ]
  },
  {
   "cell_type": "code",
   "execution_count": 41,
   "metadata": {},
   "outputs": [],
   "source": [
    "# Explaining the conversion rate within the dataframe by digits\n",
    "\n",
    "stage_data['Conversion Rate'] = pd.Series()\n",
    "\n",
    "for i in range(6):\n",
    "    m = 'Stage ' + str(i)\n",
    "    n = 'Stage ' + str(i-1)\n",
    "    if i == 0:\n",
    "        stage_data.loc[i,['Conversion Rate']] = 1\n",
    "    else:\n",
    "        stage_data.loc[i,['Conversion Rate']] = round(conversion_rate(n, m, stage_data), 5)\n",
    "\n",
    "stage_data.to_csv('stages.csv')"
   ]
  },
  {
   "cell_type": "markdown",
   "metadata": {},
   "source": [
    "Here, Conversion Rate next to Stage 2 is the ration of Conversion Number in Stage 2 vs the Conversion Number in Stage 1. Similarily, Conversion Rate next to Stage 5 is the ration of Conversion Number in Stage 5 vs the Conversion Number in Stage 4"
   ]
  },
  {
   "cell_type": "code",
   "execution_count": 42,
   "metadata": {},
   "outputs": [
    {
     "data": {
      "image/png": "[encoded data removed]",
      "text/plain": [
       "<Figure size 432x288 with 1 Axes>"
      ]
     },
     "metadata": {},
     "output_type": "display_data"
    }
   ],
   "source": [
    "#plotting the Conversion rate funnel\n",
    "sns.barplot(x = 'Conversion Rate', y = 'Stage', data = stage_data);"
   ]
  },
  {
   "cell_type": "markdown",
   "metadata": {},
   "source": [
    "From the plot, it is very clear that **the Conversion Number is the least at Stage 5** right befor the Loan approval. Stage 2 is also a bottleneck in this loan process"
   ]
  },
  {
   "cell_type": "code",
   "execution_count": 43,
   "metadata": {},
   "outputs": [
    {
     "data": {
      "image/png": "[encoded data removed]",
      "text/plain": [
       "<Figure size 432x288 with 1 Axes>"
      ]
     },
     "metadata": {},
     "output_type": "display_data"
    }
   ],
   "source": [
    "stage_data['Funnel'] = stage_data['Conversion Number']/10678\n",
    "stage_data.to_csv('stages.csv')\n",
    "sns.barplot(x = 'Funnel', y = 'Stage', data = stage_data);"
   ]
  },
  {
   "cell_type": "code",
   "execution_count": 44,
   "metadata": {},
   "outputs": [
    {
     "data": {
      "text/html": [
       "<div>\n",
       "<style scoped>\n",
       "    .dataframe tbody tr th:only-of-type {\n",
       "        vertical-align: middle;\n",
       "    }\n",
       "\n",
       "    .dataframe tbody tr th {\n",
       "        vertical-align: top;\n",
       "    }\n",
       "\n",
       "    .dataframe thead th {\n",
       "        text-align: right;\n",
       "    }\n",
       "</style>\n",
       "<table border=\"1\" class=\"dataframe\">\n",
       "  <thead>\n",
       "    <tr style=\"text-align: right;\">\n",
       "      <th></th>\n",
       "      <th>Stage</th>\n",
       "      <th>Id</th>\n",
       "      <th>Conversion Number</th>\n",
       "      <th>Conversion Rate</th>\n",
       "      <th>Funnel</th>\n",
       "    </tr>\n",
       "  </thead>\n",
       "  <tbody>\n",
       "    <tr>\n",
       "      <th>0</th>\n",
       "      <td>Stage 0</td>\n",
       "      <td>5244</td>\n",
       "      <td>10678</td>\n",
       "      <td>1.00000</td>\n",
       "      <td>1.000000</td>\n",
       "    </tr>\n",
       "    <tr>\n",
       "      <th>1</th>\n",
       "      <td>Stage 1</td>\n",
       "      <td>3917</td>\n",
       "      <td>5434</td>\n",
       "      <td>0.50890</td>\n",
       "      <td>0.508897</td>\n",
       "    </tr>\n",
       "    <tr>\n",
       "      <th>2</th>\n",
       "      <td>Stage 2</td>\n",
       "      <td>353</td>\n",
       "      <td>1517</td>\n",
       "      <td>0.27917</td>\n",
       "      <td>0.142068</td>\n",
       "    </tr>\n",
       "    <tr>\n",
       "      <th>3</th>\n",
       "      <td>Stage 3</td>\n",
       "      <td>359</td>\n",
       "      <td>1164</td>\n",
       "      <td>0.76730</td>\n",
       "      <td>0.109009</td>\n",
       "    </tr>\n",
       "    <tr>\n",
       "      <th>4</th>\n",
       "      <td>Stage 4</td>\n",
       "      <td>716</td>\n",
       "      <td>805</td>\n",
       "      <td>0.69158</td>\n",
       "      <td>0.075389</td>\n",
       "    </tr>\n",
       "    <tr>\n",
       "      <th>5</th>\n",
       "      <td>Stage 5</td>\n",
       "      <td>89</td>\n",
       "      <td>89</td>\n",
       "      <td>0.11056</td>\n",
       "      <td>0.008335</td>\n",
       "    </tr>\n",
       "  </tbody>\n",
       "</table>\n",
       "</div>"
      ],
      "text/plain": [
       "     Stage    Id  Conversion Number  Conversion Rate    Funnel\n",
       "0  Stage 0  5244              10678          1.00000  1.000000\n",
       "1  Stage 1  3917               5434          0.50890  0.508897\n",
       "2  Stage 2   353               1517          0.27917  0.142068\n",
       "3  Stage 3   359               1164          0.76730  0.109009\n",
       "4  Stage 4   716                805          0.69158  0.075389\n",
       "5  Stage 5    89                 89          0.11056  0.008335"
      ]
     },
     "execution_count": 44,
     "metadata": {},
     "output_type": "execute_result"
    }
   ],
   "source": [
    "stage_data"
   ]
  },
  {
   "cell_type": "markdown",
   "metadata": {},
   "source": [
    "## Impact of Cities and Income level on the Conversion Rate"
   ]
  },
  {
   "cell_type": "markdown",
   "metadata": {},
   "source": [
    "##### Average Income of the Applicants overall vs the applicants Stage 5"
   ]
  },
  {
   "cell_type": "code",
   "execution_count": 45,
   "metadata": {},
   "outputs": [
    {
     "data": {
      "text/html": [
       "<div>\n",
       "<style scoped>\n",
       "    .dataframe tbody tr th:only-of-type {\n",
       "        vertical-align: middle;\n",
       "    }\n",
       "\n",
       "    .dataframe tbody tr th {\n",
       "        vertical-align: top;\n",
       "    }\n",
       "\n",
       "    .dataframe thead th {\n",
       "        text-align: right;\n",
       "    }\n",
       "</style>\n",
       "<table border=\"1\" class=\"dataframe\">\n",
       "  <thead>\n",
       "    <tr style=\"text-align: right;\">\n",
       "      <th>Stage</th>\n",
       "      <th>Stage 0</th>\n",
       "      <th>Stage 1</th>\n",
       "      <th>Stage 2</th>\n",
       "      <th>Stage 3</th>\n",
       "      <th>Stage 4</th>\n",
       "      <th>Stage 5</th>\n",
       "    </tr>\n",
       "    <tr>\n",
       "      <th>City</th>\n",
       "      <th></th>\n",
       "      <th></th>\n",
       "      <th></th>\n",
       "      <th></th>\n",
       "      <th></th>\n",
       "      <th></th>\n",
       "    </tr>\n",
       "  </thead>\n",
       "  <tbody>\n",
       "    <tr>\n",
       "      <th>Adilabad</th>\n",
       "      <td>332952.000000</td>\n",
       "      <td>2.192960e+05</td>\n",
       "      <td>0.0</td>\n",
       "      <td>0.0</td>\n",
       "      <td>0.0</td>\n",
       "      <td>0.0</td>\n",
       "    </tr>\n",
       "    <tr>\n",
       "      <th>Agra</th>\n",
       "      <td>594737.142857</td>\n",
       "      <td>1.315720e+05</td>\n",
       "      <td>0.0</td>\n",
       "      <td>0.0</td>\n",
       "      <td>0.0</td>\n",
       "      <td>0.0</td>\n",
       "    </tr>\n",
       "    <tr>\n",
       "      <th>Ahmed Nagar</th>\n",
       "      <td>388100.000000</td>\n",
       "      <td>1.080374e+08</td>\n",
       "      <td>0.0</td>\n",
       "      <td>0.0</td>\n",
       "      <td>0.0</td>\n",
       "      <td>0.0</td>\n",
       "    </tr>\n",
       "    <tr>\n",
       "      <th>Ahmedabad</th>\n",
       "      <td>433349.600000</td>\n",
       "      <td>3.635763e+05</td>\n",
       "      <td>0.0</td>\n",
       "      <td>0.0</td>\n",
       "      <td>0.0</td>\n",
       "      <td>0.0</td>\n",
       "    </tr>\n",
       "    <tr>\n",
       "      <th>Ajmer</th>\n",
       "      <td>678276.000000</td>\n",
       "      <td>3.061880e+05</td>\n",
       "      <td>0.0</td>\n",
       "      <td>0.0</td>\n",
       "      <td>0.0</td>\n",
       "      <td>0.0</td>\n",
       "    </tr>\n",
       "  </tbody>\n",
       "</table>\n",
       "</div>"
      ],
      "text/plain": [
       "Stage              Stage 0       Stage 1  Stage 2  Stage 3  Stage 4  Stage 5\n",
       "City                                                                        \n",
       "Adilabad     332952.000000  2.192960e+05      0.0      0.0      0.0      0.0\n",
       "Agra         594737.142857  1.315720e+05      0.0      0.0      0.0      0.0\n",
       "Ahmed Nagar  388100.000000  1.080374e+08      0.0      0.0      0.0      0.0\n",
       "Ahmedabad    433349.600000  3.635763e+05      0.0      0.0      0.0      0.0\n",
       "Ajmer        678276.000000  3.061880e+05      0.0      0.0      0.0      0.0"
      ]
     },
     "execution_count": 45,
     "metadata": {},
     "output_type": "execute_result"
    }
   ],
   "source": [
    "# Creating a pivot table of the City vs Columns based on the average income of applicants\n",
    "pivot_analysis = pd.pivot_table(data, values = 'Income', index = 'City', columns = 'Stage', fill_value= 0, aggfunc= 'mean')\n",
    "pivot_analysis.head()"
   ]
  },
  {
   "cell_type": "markdown",
   "metadata": {},
   "source": [
    "Clearly, the above table does not explain anything. Let's select the Stage 2 and onwards only"
   ]
  },
  {
   "cell_type": "code",
   "execution_count": 46,
   "metadata": {},
   "outputs": [
    {
     "data": {
      "text/html": [
       "<div>\n",
       "<style scoped>\n",
       "    .dataframe tbody tr th:only-of-type {\n",
       "        vertical-align: middle;\n",
       "    }\n",
       "\n",
       "    .dataframe tbody tr th {\n",
       "        vertical-align: top;\n",
       "    }\n",
       "\n",
       "    .dataframe thead th {\n",
       "        text-align: right;\n",
       "    }\n",
       "</style>\n",
       "<table border=\"1\" class=\"dataframe\">\n",
       "  <thead>\n",
       "    <tr style=\"text-align: right;\">\n",
       "      <th>Stage</th>\n",
       "      <th>Stage 2</th>\n",
       "      <th>Stage 3</th>\n",
       "      <th>Stage 4</th>\n",
       "      <th>Stage 5</th>\n",
       "    </tr>\n",
       "    <tr>\n",
       "      <th>City</th>\n",
       "      <th></th>\n",
       "      <th></th>\n",
       "      <th></th>\n",
       "      <th></th>\n",
       "    </tr>\n",
       "  </thead>\n",
       "  <tbody>\n",
       "    <tr>\n",
       "      <th>Bengaluru</th>\n",
       "      <td>400613.110048</td>\n",
       "      <td>389008.674419</td>\n",
       "      <td>427833.507692</td>\n",
       "      <td>459207.250000</td>\n",
       "    </tr>\n",
       "    <tr>\n",
       "      <th>Chennai</th>\n",
       "      <td>393737.357143</td>\n",
       "      <td>323127.661017</td>\n",
       "      <td>377108.934307</td>\n",
       "      <td>349152.857143</td>\n",
       "    </tr>\n",
       "    <tr>\n",
       "      <th>Hyderabad</th>\n",
       "      <td>0.000000</td>\n",
       "      <td>0.000000</td>\n",
       "      <td>436764.000000</td>\n",
       "      <td>0.000000</td>\n",
       "    </tr>\n",
       "    <tr>\n",
       "      <th>Jaipur</th>\n",
       "      <td>220356.000000</td>\n",
       "      <td>0.000000</td>\n",
       "      <td>0.000000</td>\n",
       "      <td>0.000000</td>\n",
       "    </tr>\n",
       "    <tr>\n",
       "      <th>Kanchipuram</th>\n",
       "      <td>0.000000</td>\n",
       "      <td>305340.000000</td>\n",
       "      <td>0.000000</td>\n",
       "      <td>0.000000</td>\n",
       "    </tr>\n",
       "    <tr>\n",
       "      <th>Mumbai</th>\n",
       "      <td>388818.976744</td>\n",
       "      <td>386647.090909</td>\n",
       "      <td>386243.686957</td>\n",
       "      <td>416472.750000</td>\n",
       "    </tr>\n",
       "    <tr>\n",
       "      <th>Nanded</th>\n",
       "      <td>0.000000</td>\n",
       "      <td>451968.000000</td>\n",
       "      <td>0.000000</td>\n",
       "      <td>0.000000</td>\n",
       "    </tr>\n",
       "    <tr>\n",
       "      <th>None</th>\n",
       "      <td>0.000000</td>\n",
       "      <td>0.000000</td>\n",
       "      <td>260364.000000</td>\n",
       "      <td>0.000000</td>\n",
       "    </tr>\n",
       "    <tr>\n",
       "      <th>Other</th>\n",
       "      <td>515082.000000</td>\n",
       "      <td>365277.000000</td>\n",
       "      <td>472986.000000</td>\n",
       "      <td>0.000000</td>\n",
       "    </tr>\n",
       "    <tr>\n",
       "      <th>Pune</th>\n",
       "      <td>411284.000000</td>\n",
       "      <td>535431.777778</td>\n",
       "      <td>447252.882353</td>\n",
       "      <td>370616.727273</td>\n",
       "    </tr>\n",
       "    <tr>\n",
       "      <th>Ramanathapuram</th>\n",
       "      <td>0.000000</td>\n",
       "      <td>244104.000000</td>\n",
       "      <td>0.000000</td>\n",
       "      <td>0.000000</td>\n",
       "    </tr>\n",
       "    <tr>\n",
       "      <th>Surat</th>\n",
       "      <td>0.000000</td>\n",
       "      <td>0.000000</td>\n",
       "      <td>269700.000000</td>\n",
       "      <td>0.000000</td>\n",
       "    </tr>\n",
       "    <tr>\n",
       "      <th>Thane</th>\n",
       "      <td>0.000000</td>\n",
       "      <td>171348.000000</td>\n",
       "      <td>0.000000</td>\n",
       "      <td>0.000000</td>\n",
       "    </tr>\n",
       "  </tbody>\n",
       "</table>\n",
       "</div>"
      ],
      "text/plain": [
       "Stage                 Stage 2        Stage 3        Stage 4        Stage 5\n",
       "City                                                                      \n",
       "Bengaluru       400613.110048  389008.674419  427833.507692  459207.250000\n",
       "Chennai         393737.357143  323127.661017  377108.934307  349152.857143\n",
       "Hyderabad            0.000000       0.000000  436764.000000       0.000000\n",
       "Jaipur          220356.000000       0.000000       0.000000       0.000000\n",
       "Kanchipuram          0.000000  305340.000000       0.000000       0.000000\n",
       "Mumbai          388818.976744  386647.090909  386243.686957  416472.750000\n",
       "Nanded               0.000000  451968.000000       0.000000       0.000000\n",
       "None                 0.000000       0.000000  260364.000000       0.000000\n",
       "Other           515082.000000  365277.000000  472986.000000       0.000000\n",
       "Pune            411284.000000  535431.777778  447252.882353  370616.727273\n",
       "Ramanathapuram       0.000000  244104.000000       0.000000       0.000000\n",
       "Surat                0.000000       0.000000  269700.000000       0.000000\n",
       "Thane                0.000000  171348.000000       0.000000       0.000000"
      ]
     },
     "execution_count": 46,
     "metadata": {},
     "output_type": "execute_result"
    }
   ],
   "source": [
    "pivot_analysis_2345 = pd.pivot_table(data[(data.Stage != 'Stage 0') & (data.Stage != 'Stage 1')], values = 'Income', index = 'City', columns = 'Stage', fill_value= 0, aggfunc= 'mean')\n",
    "pivot_analysis_2345"
   ]
  },
  {
   "cell_type": "code",
   "execution_count": 47,
   "metadata": {
    "scrolled": false
   },
   "outputs": [
    {
     "data": {
      "image/png": "[encoded data removed]",
      "text/plain": [
       "<Figure size 432x288 with 1 Axes>"
      ]
     },
     "metadata": {},
     "output_type": "display_data"
    }
   ],
   "source": [
    "# Let us see the trend of the applicants income\n",
    "sns.distplot(city_data.Income);"
   ]
  },
  {
   "cell_type": "markdown",
   "metadata": {},
   "source": [
    "It seems to have the outliers.\n",
    "\n",
    "For better understanding, we need to remove the outlier."
   ]
  },
  {
   "cell_type": "code",
   "execution_count": 48,
   "metadata": {
    "scrolled": true
   },
   "outputs": [
    {
     "data": {
      "image/png": "[encoded data removed]",
      "text/plain": [
       "<Figure size 432x288 with 1 Axes>"
      ]
     },
     "metadata": {},
     "output_type": "display_data"
    }
   ],
   "source": [
    "# Trend in applicants' income after removing the outlier\n",
    "sns.distplot(city_data[city_data.Income <1000000].Income);"
   ]
  },
  {
   "cell_type": "markdown",
   "metadata": {},
   "source": [
    "We can see that most of the applicants have a income from 200000 (approx) to less than 400000.\n",
    "\n",
    "Let's see the difference between the average income of applicants vs the average income of the applicants who reached the Stage 5"
   ]
  },
  {
   "cell_type": "code",
   "execution_count": 49,
   "metadata": {},
   "outputs": [
    {
     "name": "stdout",
     "output_type": "stream",
     "text": [
      "\n",
      "Average income of the Applicants in Stage 0 is:  294891\n",
      "\n",
      "Average income of the Applicants in Stage 5 is:  388832\n"
     ]
    }
   ],
   "source": [
    "imp_data = data[data.Income < 1000000]\n",
    "\n",
    "mean_0 = imp_data[imp_data.Stage == 'Stage 0'].Income.mean()\n",
    "print('\\nAverage income of the Applicants in Stage 0 is: ', int(mean_0))\n",
    "\n",
    "mean_5 = imp_data[imp_data.Stage == 'Stage 5'].Income.mean()\n",
    "print('\\nAverage income of the Applicants in Stage 5 is: ', int(mean_5))"
   ]
  },
  {
   "cell_type": "markdown",
   "metadata": {},
   "source": [
    "Below two plots explain the user flow vs Average Income. At Stage 0, the income is less but as we move to the coming stages, the average income is more.\n"
   ]
  },
  {
   "cell_type": "code",
   "execution_count": 50,
   "metadata": {},
   "outputs": [
    {
     "data": {
      "image/png": "[encoded data removed]",
      "text/plain": [
       "<Figure size 432x288 with 1 Axes>"
      ]
     },
     "metadata": {},
     "output_type": "display_data"
    }
   ],
   "source": [
    "sns.violinplot(x = 'Stage', y = 'Income', data = data[data.Income < 800000]);"
   ]
  },
  {
   "cell_type": "code",
   "execution_count": 51,
   "metadata": {},
   "outputs": [
    {
     "data": {
      "image/png": "[encoded data removed]",
      "text/plain": [
       "<Figure size 432x288 with 1 Axes>"
      ]
     },
     "metadata": {},
     "output_type": "display_data"
    }
   ],
   "source": [
    "data[data.Income < 1000000].groupby(['Stage']).mean().plot(kind = 'bar');"
   ]
  },
  {
   "cell_type": "code",
   "execution_count": null,
   "metadata": {},
   "outputs": [],
   "source": []
  },
  {
   "cell_type": "code",
   "execution_count": null,
   "metadata": {},
   "outputs": [],
   "source": []
  }
 ],
 "metadata": {
  "kernelspec": {
   "display_name": "Python 3",
   "language": "python",
   "name": "python3"
  },
  "language_info": {
   "codemirror_mode": {
    "name": "ipython",
    "version": 3
   },
   "file_extension": ".py",
   "mimetype": "text/x-python",
   "name": "python",
   "nbconvert_exporter": "python",
   "pygments_lexer": "ipython3",
   "version": "3.6.5"
  }
 },
 "nbformat": 4,
 "nbformat_minor": 2
}
